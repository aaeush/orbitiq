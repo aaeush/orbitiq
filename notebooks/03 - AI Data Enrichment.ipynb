{
 "cells": [
  {
   "cell_type": "markdown",
   "id": "0c64785c",
   "metadata": {},
   "source": [
    "# AI Data Enrichment (UNOOSA ➜ INTLDES→NORAD ➜ N2YO TLE)\n",
    "\n",
    "This notebook incrementally builds an enriched dataset by:\n",
    "- Normalizing UNOOSA international designators\n",
    "- Building an INTLDES→NORAD crosswalk from SATCAT\n",
    "- Merging UNOOSA with NORAD IDs\n",
    "- Fetching N2YO TLEs (sample) with caching/backoff\n",
    "- Parsing TLEs into orbit features\n",
    "- Merging features back for analysis\n",
    "\n",
    "Each cell performs one focused action and prints a small sample of results.\n"
   ]
  },
  {
   "cell_type": "code",
   "execution_count": null,
   "id": "824c6a84",
   "metadata": {},
   "outputs": [],
   "source": [
    "# 0) Ensure project root is on sys.path for src imports\n",
    "from pathlib import Path\n",
    "import sys\n",
    "ROOT = Path(\"..\").resolve()\n",
    "if str(ROOT) not in sys.path:\n",
    "    sys.path.insert(0, str(ROOT))\n",
    "print(\"Project root added to sys.path:\", ROOT)\n"
   ]
  },
  {
   "cell_type": "markdown",
   "id": "fe75604a",
   "metadata": {},
   "source": [
    "## 1) Imports & paths\n"
   ]
  },
  {
   "cell_type": "code",
   "execution_count": null,
   "id": "deef92b7",
   "metadata": {},
   "outputs": [],
   "source": [
    "import os\n",
    "from pathlib import Path\n",
    "import pandas as pd\n",
    "\n",
    "# Project-relative paths\n",
    "ROOT = Path(\"..\")  # this notebook is inside notebooks/\n",
    "UNOOSA_PATH = ROOT / \"data\" / \"processed\" / \"df_unoosa.csv\"\n",
    "SATCAT_PATH = ROOT / \"data\" / \"raw\" / \"satcat.csv\"  # replace if your satcat file is named differently\n",
    "\n",
    "print(\"UNOOSA_PATH:\", UNOOSA_PATH)\n",
    "print(\"SATCAT_PATH:\", SATCAT_PATH)\n"
   ]
  },
  {
   "cell_type": "markdown",
   "id": "f15fd40c",
   "metadata": {},
   "source": [
    "## 2) Load UNOOSA processed CSV (preview)\n"
   ]
  },
  {
   "cell_type": "code",
   "execution_count": null,
   "id": "b780c13e",
   "metadata": {},
   "outputs": [],
   "source": [
    "unoosa = pd.read_csv(UNOOSA_PATH)\n",
    "print(\"UNOOSA rows, cols:\", unoosa.shape)\n",
    "unoosa.head(3)\n"
   ]
  },
  {
   "cell_type": "markdown",
   "id": "3d53ab11",
   "metadata": {},
   "source": [
    "## 3) Load SATCAT CSV (preview) — if you don't have it, download it first\n"
   ]
  },
  {
   "cell_type": "code",
   "execution_count": null,
   "id": "1f6c3b9c",
   "metadata": {},
   "outputs": [],
   "source": [
    "satcat = pd.read_csv(SATCAT_PATH)\n",
    "print(\"SATCAT rows, cols:\", satcat.shape)\n",
    "satcat.head(3)\n"
   ]
  },
  {
   "cell_type": "markdown",
   "id": "dafd8412",
   "metadata": {},
   "source": [
    "## 4) Build crosswalk (INTLDES→NORAD) and inspect\n"
   ]
  },
  {
   "cell_type": "code",
   "execution_count": null,
   "id": "915083d4",
   "metadata": {},
   "outputs": [],
   "source": [
    "from src.crosswalk import build_satcat_crosswalk, merge_unoosa_with_crosswalk\n",
    "\n",
    "satcat_xwalk = build_satcat_crosswalk(satcat)\n",
    "satcat_xwalk.head(5)\n"
   ]
  },
  {
   "cell_type": "markdown",
   "id": "cffa0c6c",
   "metadata": {},
   "source": [
    "## 5) Merge UNOOSA with crosswalk to get NORAD IDs\n"
   ]
  },
  {
   "cell_type": "code",
   "execution_count": null,
   "id": "a845806e",
   "metadata": {},
   "outputs": [],
   "source": [
    "merged = merge_unoosa_with_crosswalk(unoosa, satcat_xwalk, unoosa_intldes_col=\"international_designator\")\n",
    "print(\"Merged rows, cols:\", merged.shape)\n",
    "merged[[\"international_designator\", \"intldes\", \"norad_id\", \"satcat_satname\"]].head(10)\n"
   ]
  },
  {
   "cell_type": "markdown",
   "id": "2261bd47",
   "metadata": {},
   "source": [
    "## 6) Fetch a small sample of TLEs via N2YO (uses N2YO_API_KEY in config/.env)\n"
   ]
  },
  {
   "cell_type": "code",
   "execution_count": null,
   "id": "a758316f",
   "metadata": {},
   "outputs": [],
   "source": [
    "from src.n2yo_client import N2YOClient\n",
    "\n",
    "sample_ids = merged[\"norad_id\"].dropna().astype(int).drop_duplicates().head(10).tolist()\n",
    "print(\"Sample NORAD IDs:\", sample_ids)\n",
    "\n",
    "client = N2YOClient(cache_dir=\"cache_tle\")\n",
    "\n",
    "sample_rows = []\n",
    "for nid in sample_ids:\n",
    "    try:\n",
    "        d = client.get_tle(int(nid))\n",
    "        sample_rows.append({\n",
    "            \"norad_id\": int(nid),\n",
    "            \"n2yo_satname\": (d.get(\"info\", {}) or {}).get(\"satname\"),\n",
    "            \"tle_one_line\": d.get(\"tle\"),\n",
    "            \"n2yo_txn_last_60min\": (d.get(\"info\", {}) or {}).get(\"transactionscount\"),\n",
    "        })\n",
    "    except Exception as e:\n",
    "        sample_rows.append({\"norad_id\": int(nid), \"error\": str(e)})\n",
    "\n",
    "sample_tle_df = pd.DataFrame(sample_rows)\n",
    "sample_tle_df.head(5)\n"
   ]
  },
  {
   "cell_type": "markdown",
   "id": "8ba20ae5",
   "metadata": {},
   "source": [
    "## 7) Parse TLE features for the sample\n"
   ]
  },
  {
   "cell_type": "code",
   "execution_count": null,
   "id": "18759a48",
   "metadata": {},
   "outputs": [],
   "source": [
    "from src.tle_parse import parse_tle_fields\n",
    "\n",
    "feat_rows = []\n",
    "for _, r in sample_tle_df.iterrows():\n",
    "    feats = parse_tle_fields(r.get(\"tle_one_line\"))\n",
    "    feats[\"norad_id\"] = r[\"norad_id\"]\n",
    "    feat_rows.append(feats)\n",
    "\n",
    "sample_tle_feats = pd.DataFrame(feat_rows)\n",
    "sample_tle_feats.head(5)\n"
   ]
  },
  {
   "cell_type": "markdown",
   "id": "ac81e452",
   "metadata": {},
   "source": [
    "## 8) Merge sample TLE + features back to merged UNOOSA\n"
   ]
  },
  {
   "cell_type": "code",
   "execution_count": null,
   "id": "96012ce3",
   "metadata": {},
   "outputs": [],
   "source": [
    "sample_enriched = (\n",
    "    merged.merge(\n",
    "        sample_tle_df[[\"norad_id\", \"n2yo_satname\", \"tle_one_line\", \"n2yo_txn_last_60min\"]],\n",
    "        on=\"norad_id\", how=\"left\"\n",
    "    ).merge(sample_tle_feats, on=\"norad_id\", how=\"left\")\n",
    ")\n",
    "\n",
    "print(\"Sample enriched rows, cols:\", sample_enriched.shape)\n",
    "sample_enriched.head(10)\n"
   ]
  },
  {
   "cell_type": "markdown",
   "id": "12e020e1",
   "metadata": {},
   "source": [
    "## 9) Full enrichment (optional) — runs end-to-end and writes outputs\n"
   ]
  },
  {
   "cell_type": "code",
   "execution_count": null,
   "id": "fc4944b9",
   "metadata": {},
   "outputs": [],
   "source": [
    "from src.enrich_unoosa import enrich_with_n2yo\n",
    "\n",
    "enriched, tle_df, tle_feats_df = enrich_with_n2yo(\n",
    "    unoosa_df=unoosa,\n",
    "    satcat_csv_path=SATCAT_PATH,\n",
    "    cache_dir=\"cache_tle\",\n",
    ")\n",
    "\n",
    "# Save outputs\n",
    "out_dir = ROOT / \"data\" / \"processed\"\n",
    "out_dir.mkdir(parents=True, exist_ok=True)\n",
    "\n",
    "enriched.to_csv(out_dir / \"enriched_unoosa_n2yo.csv\", index=False)\n",
    "tle_df.to_csv(out_dir / \"n2yo_tle_raw.csv\", index=False)\n",
    "tle_feats_df.to_csv(out_dir / \"n2yo_tle_features.csv\", index=False)\n",
    "\n",
    "print(\"Wrote:\")\n",
    "print(\" -\", out_dir / \"enriched_unoosa_n2yo.csv\")\n",
    "print(\" -\", out_dir / \"n2yo_tle_raw.csv\")\n",
    "print(\" -\", out_dir / \"n2yo_tle_features.csv\")\n"
   ]
  },
  {
   "cell_type": "markdown",
   "id": "3f8687f0",
   "metadata": {},
   "source": [
    "# AI Data Enrichment (UNOOSA ➜ INTLDES→NORAD ➜ N2YO TLE)\n",
    "\n",
    "This notebook incrementally builds an enriched dataset by:\n",
    "- Normalizing UNOOSA international designators\n",
    "- Building an INTLDES→NORAD crosswalk from SATCAT\n",
    "- Merging UNOOSA with NORAD IDs\n",
    "- Fetching N2YO TLEs (sample) with caching/backoff\n",
    "- Parsing TLEs into orbit features\n",
    "- Merging features back for analysis\n",
    "\n",
    "Each cell performs one focused action and prints a small sample of results."
   ]
  },
  {
   "cell_type": "markdown",
   "id": "6bdb2c27",
   "metadata": {},
   "source": [
    "## 0) Setup\n",
    "\n",
    "- Ensure `config/.env` contains `N2YO_API_KEY` (copy from `config/.env.example`).\n",
    "- This notebook loads UNOOSA data and a SATCAT CSV, merges to NORAD IDs, fetches N2YO TLEs (sample), parses features, and merges back.\n",
    "- Each cell is independent and focuses on one action."
   ]
  },
  {
   "cell_type": "code",
   "execution_count": null,
   "id": "a3a62854",
   "metadata": {},
   "outputs": [],
   "source": [
    "# 1) Imports & paths\n",
    "import os\n",
    "from pathlib import Path\n",
    "import pandas as pd\n",
    "\n",
    "# Project-relative paths\n",
    "ROOT = Path(\"..\")  # this notebook is inside notebooks/\n",
    "UNOOSA_PATH = ROOT / \"data\" / \"processed\" / \"df_unoosa.csv\"\n",
    "SATCAT_PATH = ROOT / \"data\" / \"raw\" / \"satcat.csv\"  # replace if your satcat file is named differently\n",
    "\n",
    "print(\"UNOOSA_PATH:\", UNOOSA_PATH)\n",
    "print(\"SATCAT_PATH:\", SATCAT_PATH)\n"
   ]
  },
  {
   "cell_type": "code",
   "execution_count": null,
   "id": "a43cd52a",
   "metadata": {},
   "outputs": [],
   "source": [
    "# 2) Load UNOOSA processed CSV (preview)\n",
    "unoosa = pd.read_csv(UNOOSA_PATH)\n",
    "print(\"UNOOSA rows, cols:\", unoosa.shape)\n",
    "unoosa.head(3)\n"
   ]
  },
  {
   "cell_type": "code",
   "execution_count": null,
   "id": "c4f8a322",
   "metadata": {},
   "outputs": [],
   "source": [
    "# 3) Load SATCAT CSV (preview) — if you don't have it, download it first\n",
    "satcat = pd.read_csv(SATCAT_PATH)\n",
    "print(\"SATCAT rows, cols:\", satcat.shape)\n",
    "satcat.head(3)\n"
   ]
  },
  {
   "cell_type": "code",
   "execution_count": null,
   "id": "7115b7dd",
   "metadata": {},
   "outputs": [],
   "source": [
    "# Ensure project root is on sys.path so `import src.*` works from notebooks/\n",
    "from pathlib import Path\n",
    "import sys\n",
    "ROOT = Path(\"..\").resolve()\n",
    "if str(ROOT) not in sys.path:\n",
    "    sys.path.insert(0, str(ROOT))"
   ]
  },
  {
   "cell_type": "code",
   "execution_count": null,
   "id": "8331af48",
   "metadata": {},
   "outputs": [],
   "source": [
    "# 4) Build crosswalk (INTLDES→NORAD) and inspect\n",
    "from src.crosswalk import build_satcat_crosswalk, merge_unoosa_with_crosswalk\n",
    "\n",
    "satcat_xwalk = build_satcat_crosswalk(satcat)\n",
    "satcat_xwalk.head(5)\n"
   ]
  },
  {
   "cell_type": "code",
   "execution_count": null,
   "id": "07d195c9",
   "metadata": {},
   "outputs": [],
   "source": [
    "\n"
   ]
  },
  {
   "cell_type": "code",
   "execution_count": null,
   "id": "95ce2a32",
   "metadata": {},
   "outputs": [],
   "source": [
    "\n"
   ]
  },
  {
   "cell_type": "code",
   "execution_count": null,
   "id": "8730c927",
   "metadata": {},
   "outputs": [],
   "source": [
    "\n"
   ]
  },
  {
   "cell_type": "code",
   "execution_count": null,
   "id": "4abe7af9",
   "metadata": {},
   "outputs": [],
   "source": [
    "\n"
   ]
  },
  {
   "cell_type": "code",
   "execution_count": null,
   "id": "9fa7085c",
   "metadata": {},
   "outputs": [],
   "source": [
    "\n"
   ]
  },
  {
   "cell_type": "code",
   "execution_count": null,
   "id": "8dced5e2",
   "metadata": {},
   "outputs": [],
   "source": []
  },
  {
   "cell_type": "code",
   "execution_count": null,
   "id": "18ecd74b",
   "metadata": {},
   "outputs": [],
   "source": []
  }
 ],
 "metadata": {
  "kernelspec": {
   "display_name": "Python 3",
   "language": "python",
   "name": "python3"
  },
  "language_info": {
   "codemirror_mode": {
    "name": "ipython",
    "version": 3
   },
   "file_extension": ".py",
   "mimetype": "text/x-python",
   "name": "python",
   "nbconvert_exporter": "python",
   "pygments_lexer": "ipython3",
   "version": "3.13.5"
  }
 },
 "nbformat": 4,
 "nbformat_minor": 5
}
